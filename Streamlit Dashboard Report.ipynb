{
 "cells": [
  {
   "cell_type": "markdown",
   "id": "cb5d47e4-e489-4531-b746-d70a78fdb38f",
   "metadata": {},
   "source": [
    "# Mini Project: Streamlit Dashboard"
   ]
  },
  {
   "cell_type": "markdown",
   "id": "4c1b222a-5b7a-4b4a-9fe5-e1a721088516",
   "metadata": {},
   "source": [
    "## Group members:\n",
    "Ahmad Hariz Danish bin Ahmad Izzuddin(2417963),\n",
    "Luqman Nul Hakim Bin Abdullah (2417777)\n"
   ]
  },
  {
   "cell_type": "markdown",
   "id": "48d9ea20-96ba-4ca3-ab5e-1a5e59779aff",
   "metadata": {},
   "source": [
    "### Objective"
   ]
  },
  {
   "cell_type": "raw",
   "id": "1c5f9785-6bb7-4316-a7fd-deb4694a201c",
   "metadata": {},
   "source": [
    "The objective of our analysis is to explore and understand student performance based on the dataset we obtained from Kaggle.com. Specifically, we aim to determine the average GPA for each subject, analyze the distribution of students by gender, and compare GPA across different genders, classes, and subjects. This analysis will help us identify potential patterns or trends in academic performance and demographic factors."
   ]
  },
  {
   "cell_type": "markdown",
   "id": "37e586cd-8757-4dda-9923-a7d47129582e",
   "metadata": {},
   "source": [
    "### Loading the Raw Dataset"
   ]
  },
  {
   "cell_type": "raw",
   "id": "558c0f65-911b-4ddd-9295-90ebca4bc017",
   "metadata": {},
   "source": [
    "To begin our analysis, we first loaded the raw dataset obtained from Kaggle.com into our analysis tool. This dataset contains information about students' academic performance, including GPA, gender, class, and subjects registered. At this stage, the data is still unprocessed, and no cleaning or transformation has been applied. Loading the raw dataset allows us to examine its structure and contents before proceeding with data cleaning and analysis."
   ]
  },
  {
   "cell_type": "markdown",
   "id": "f60996ae-a459-48ac-9f45-028cca1ee59e",
   "metadata": {},
   "source": [
    "### Data Preparation and Saving The Dataset"
   ]
  },
  {
   "cell_type": "raw",
   "id": "d318774c-3897-4ee3-b121-84047c364cd1",
   "metadata": {},
   "source": [
    "At this stage, the data is still unprocessed but there is no cleaning or transformation required as the data has already been cleaned up before the owner uploaded it in the website. Thus the dataset can be used straight away into our streamlit dashboard for analysis."
   ]
  },
  {
   "cell_type": "markdown",
   "id": "55026f62-138d-4de4-8865-4501445e83be",
   "metadata": {},
   "source": [
    "### Streamlit Python Source Code"
   ]
  },
  {
   "cell_type": "raw",
   "id": "1a42a8d0-37d5-472d-8fd3-e18556a92c78",
   "metadata": {},
   "source": [
    "import streamlit as st\n",
    "import pandas as pd\n",
    "import matplotlib.pyplot as plt\n",
    "import seaborn as sns\n",
    "\n",
    "st.markdown(\n",
    "    \"\"\"\n",
    "    <style>\n",
    "    .stApp {\n",
    "        background: linear-gradient(to bottom right, #74ebd5, #ACB6E5);\n",
    "        background-attachment: fixed;\n",
    "    }\n",
    "    </style>\n",
    "    \"\"\",\n",
    "    unsafe_allow_html=True\n",
    ")\n",
    "\n",
    "st.image(\"banner.jpg\", use_container_width=True)\n",
    "st.title(\"\"\"Student Performance Dashboard\"\"\")\n",
    "\n",
    "\n",
    "df = pd.read_csv(\"Students.data.csv\")\n",
    "df.columns = df.columns.str.strip()\n",
    "print(df.columns)   \n",
    "#Filters\n",
    "classes = st.multiselect(\"Select Class:\", options=df[\"class\"].unique(), default=df[\"class\"].unique())\n",
    "genders = st.multiselect(\"Select Gender:\", options=df[\"gender\"].unique(), default=df[\"gender\"].unique())\n",
    "\n",
    "filtered_df = df[(df[\"class\"].isin(classes)) & (df[\"gender\"].isin(genders))]\n",
    "\n",
    "st.subheader(\"Summary Statistics\")\n",
    "st.dataframe(filtered_df.describe())\n",
    " \n",
    "st.subheader(\"Average GPA by Class\")\n",
    "\n",
    "# for bar chart\n",
    "gradient_palette = sns.color_palette(\"flare\", n_colors=2)\n",
    "\n",
    "fig1, ax1 = plt.subplots()\n",
    "\n",
    "sns.barplot(\n",
    "    data=filtered_df,\n",
    "    x=\"class\",\n",
    "    y=\"GPA\",\n",
    "    hue=\"gender\",\n",
    "    ax=ax1,\n",
    "    palette=gradient_palette\n",
    ")\n",
    "\n",
    "ax1.set_title(\"Average GPA by Class and Gender\")\n",
    "st.pyplot(fig1)\n",
    "  \n",
    "st.subheader(\"GPA Distribution\")\n",
    "fig2, ax2 = plt.subplots()\n",
    "sns.histplot(filtered_df[\"GPA\"], kde=True, bins=10, ax=ax2)\n",
    "st.pyplot(fig2)\n",
    "\n",
    "#This coding used to determined the average GPA for every subjects registered using line chart\n",
    "st.subheader(\"Subject-Wise Averages\")\n",
    "subject_cols = [\"Algebra\", \"Calculus 1\", \"Calculus 2\", \"Statistics\", \"Probability\", \"Number Theory\", \"Functional Analysis\"]\n",
    "filtered_df.columns = filtered_df.columns.str.strip()\n",
    "print(filtered_df.columns)\n",
    "available_subjects = [col for col in subject_cols if col in filtered_df.columns]\n",
    "avg_subjects = filtered_df[available_subjects].mean()\n",
    "st.line_chart(avg_subjects)\n",
    " \n",
    "#This coding is specifically use for gender distribution using pie chart\n",
    "st.subheader(\"Gender Distribution\")\n",
    "gender_counts = filtered_df[\"gender\"].value_counts()\n",
    "fig3, ax3 = plt.subplots()\n",
    "ax3.pie(gender_counts, labels=gender_counts.index, autopct=\"%1.1f%%\", startangle=90)\n",
    "ax3.axis(\"equal\")\n",
    "st.pyplot(fig3)\n",
    "\n",
    "#This coding is specifically use scatter chart to compare between GPA/Gender/Class and subject.\n",
    "st.subheader(\"Scatter Chart\")\n",
    "x_column = st.selectbox(\"Choose x-axis column\",df.columns)\n",
    "y_column = st.selectbox(\"Choose y-axis column\",df.columns)\n",
    "fig, ax = plt.subplots(figsize = (10,6))\n",
    "df.plot(kind = 'scatter', x=x_column, y=y_column, ax =ax)\n",
    "st.pyplot(fig)"
   ]
  },
  {
   "cell_type": "markdown",
   "id": "07c60714-4ec6-4013-bd5d-09fba518ca42",
   "metadata": {},
   "source": [
    "### Conclusion"
   ]
  },
  {
   "cell_type": "raw",
   "id": "0f7b309b-c3da-4ef6-b8da-902b6bd0391c",
   "metadata": {},
   "source": [
    "In conclusion, our analysis successfully determined the average GPA for each subject, examined the gender distribution among students, and compared GPA across different genders, classes, and subjects. The insights gained from the dataset provided a better understanding of academic performance trends and how they relate to demographic factors. These findings can help in identifying areas for improvement and supporting data-driven decisions in educational planning."
   ]
  },
  {
   "cell_type": "code",
   "execution_count": null,
   "id": "0a5e7169-bec3-4958-b0c5-7511ec0e0953",
   "metadata": {},
   "outputs": [],
   "source": []
  }
 ],
 "metadata": {
  "kernelspec": {
   "display_name": "Python [conda env:base] *",
   "language": "python",
   "name": "conda-base-py"
  },
  "language_info": {
   "codemirror_mode": {
    "name": "ipython",
    "version": 3
   },
   "file_extension": ".py",
   "mimetype": "text/x-python",
   "name": "python",
   "nbconvert_exporter": "python",
   "pygments_lexer": "ipython3",
   "version": "3.12.7"
  }
 },
 "nbformat": 4,
 "nbformat_minor": 5
}
